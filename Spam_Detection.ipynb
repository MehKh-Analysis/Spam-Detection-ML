{
 "cells": [
  {
   "cell_type": "markdown",
   "id": "e2705c50-7f36-4dcd-9b95-a74d0431c3c9",
   "metadata": {},
   "source": [
    "# Spam Detection \n",
    "## A Binary Classification Approach "
   ]
  },
  {
   "cell_type": "markdown",
   "id": "960b8092-6940-4fcc-bb46-ab66befe0d0a",
   "metadata": {},
   "source": [
    "<br>"
   ]
  },
  {
   "cell_type": "markdown",
   "id": "649b4340-63e4-445d-88e7-57801017911e",
   "metadata": {},
   "source": [
    "## Exploratory Data Analysis "
   ]
  },
  {
   "cell_type": "code",
   "execution_count": 32,
   "id": "173877b4-5636-42c4-8ee5-fdbfcb6b5937",
   "metadata": {},
   "outputs": [],
   "source": [
    "import pandas as pd\n",
    "import numpy as np\n",
    "import matplotlib.pyplot as plt\n",
    "import seaborn as sns"
   ]
  },
  {
   "cell_type": "code",
   "execution_count": 33,
   "id": "449f3d5a-605d-4de2-8665-6ebe8edf6a98",
   "metadata": {},
   "outputs": [],
   "source": [
    "# load data set \n",
    "df = pd.read_csv(\"SMSSpamCollection\", sep=\"\\t\", header=None, names=[\"label\", \"message\"])\n"
   ]
  },
  {
   "cell_type": "code",
   "execution_count": 34,
   "id": "ac4dce8b-5868-4ee2-9b16-b7b30da4e5e0",
   "metadata": {},
   "outputs": [
    {
     "data": {
      "text/html": [
       "<div>\n",
       "<style scoped>\n",
       "    .dataframe tbody tr th:only-of-type {\n",
       "        vertical-align: middle;\n",
       "    }\n",
       "\n",
       "    .dataframe tbody tr th {\n",
       "        vertical-align: top;\n",
       "    }\n",
       "\n",
       "    .dataframe thead th {\n",
       "        text-align: right;\n",
       "    }\n",
       "</style>\n",
       "<table border=\"1\" class=\"dataframe\">\n",
       "  <thead>\n",
       "    <tr style=\"text-align: right;\">\n",
       "      <th></th>\n",
       "      <th>label</th>\n",
       "      <th>message</th>\n",
       "    </tr>\n",
       "  </thead>\n",
       "  <tbody>\n",
       "    <tr>\n",
       "      <th>0</th>\n",
       "      <td>ham</td>\n",
       "      <td>Go until jurong point, crazy.. Available only ...</td>\n",
       "    </tr>\n",
       "    <tr>\n",
       "      <th>1</th>\n",
       "      <td>ham</td>\n",
       "      <td>Ok lar... Joking wif u oni...</td>\n",
       "    </tr>\n",
       "    <tr>\n",
       "      <th>2</th>\n",
       "      <td>spam</td>\n",
       "      <td>Free entry in 2 a wkly comp to win FA Cup fina...</td>\n",
       "    </tr>\n",
       "    <tr>\n",
       "      <th>3</th>\n",
       "      <td>ham</td>\n",
       "      <td>U dun say so early hor... U c already then say...</td>\n",
       "    </tr>\n",
       "    <tr>\n",
       "      <th>4</th>\n",
       "      <td>ham</td>\n",
       "      <td>Nah I don't think he goes to usf, he lives aro...</td>\n",
       "    </tr>\n",
       "    <tr>\n",
       "      <th>5</th>\n",
       "      <td>spam</td>\n",
       "      <td>FreeMsg Hey there darling it's been 3 week's n...</td>\n",
       "    </tr>\n",
       "    <tr>\n",
       "      <th>6</th>\n",
       "      <td>ham</td>\n",
       "      <td>Even my brother is not like to speak with me. ...</td>\n",
       "    </tr>\n",
       "    <tr>\n",
       "      <th>7</th>\n",
       "      <td>ham</td>\n",
       "      <td>As per your request 'Melle Melle (Oru Minnamin...</td>\n",
       "    </tr>\n",
       "    <tr>\n",
       "      <th>8</th>\n",
       "      <td>spam</td>\n",
       "      <td>WINNER!! As a valued network customer you have...</td>\n",
       "    </tr>\n",
       "    <tr>\n",
       "      <th>9</th>\n",
       "      <td>spam</td>\n",
       "      <td>Had your mobile 11 months or more? U R entitle...</td>\n",
       "    </tr>\n",
       "  </tbody>\n",
       "</table>\n",
       "</div>"
      ],
      "text/plain": [
       "  label                                            message\n",
       "0   ham  Go until jurong point, crazy.. Available only ...\n",
       "1   ham                      Ok lar... Joking wif u oni...\n",
       "2  spam  Free entry in 2 a wkly comp to win FA Cup fina...\n",
       "3   ham  U dun say so early hor... U c already then say...\n",
       "4   ham  Nah I don't think he goes to usf, he lives aro...\n",
       "5  spam  FreeMsg Hey there darling it's been 3 week's n...\n",
       "6   ham  Even my brother is not like to speak with me. ...\n",
       "7   ham  As per your request 'Melle Melle (Oru Minnamin...\n",
       "8  spam  WINNER!! As a valued network customer you have...\n",
       "9  spam  Had your mobile 11 months or more? U R entitle..."
      ]
     },
     "execution_count": 34,
     "metadata": {},
     "output_type": "execute_result"
    }
   ],
   "source": [
    "df.head(10)"
   ]
  },
  {
   "cell_type": "code",
   "execution_count": 35,
   "id": "0552bed3-aeb4-4bcf-b1fd-d7bf1c5c366a",
   "metadata": {},
   "outputs": [
    {
     "data": {
      "text/plain": [
       "(5572, 2)"
      ]
     },
     "execution_count": 35,
     "metadata": {},
     "output_type": "execute_result"
    }
   ],
   "source": [
    "df.shape"
   ]
  },
  {
   "cell_type": "code",
   "execution_count": 36,
   "id": "2736109a-4645-4982-a992-577897ee04f4",
   "metadata": {},
   "outputs": [
    {
     "name": "stdout",
     "output_type": "stream",
     "text": [
      "<class 'pandas.core.frame.DataFrame'>\n",
      "RangeIndex: 5572 entries, 0 to 5571\n",
      "Data columns (total 2 columns):\n",
      " #   Column   Non-Null Count  Dtype \n",
      "---  ------   --------------  ----- \n",
      " 0   label    5572 non-null   object\n",
      " 1   message  5572 non-null   object\n",
      "dtypes: object(2)\n",
      "memory usage: 87.2+ KB\n"
     ]
    }
   ],
   "source": [
    "# check null values & data types\n",
    "df.info()"
   ]
  },
  {
   "cell_type": "code",
   "execution_count": 37,
   "id": "74d37303-549f-4dd3-9059-245624000a52",
   "metadata": {},
   "outputs": [
    {
     "name": "stdout",
     "output_type": "stream",
     "text": [
      "\n",
      "\n",
      " label\n",
      "ham     4825\n",
      "spam     747\n",
      "Name: count, dtype: int64 \n",
      "\n",
      "\n",
      "------------------------------------------------------------------------------------------------------------------------\n"
     ]
    },
    {
     "data": {
      "image/png": "[encoded data removed]",
      "text/plain": [
       "<Figure size 640x480 with 1 Axes>"
      ]
     },
     "metadata": {},
     "output_type": "display_data"
    }
   ],
   "source": [
    "# check label ( spam & ham )  frequency \n",
    "print(\"\\n\\n\", df.value_counts(\"label\"),\"\\n\\n\")\n",
    "print(\"--\"*60)\n",
    "sns.countplot(data=df, x=\"label\", hue=\"label\")\n",
    "plt.show()\n"
   ]
  },
  {
   "cell_type": "code",
   "execution_count": 38,
   "id": "ad9ca665-db5d-4798-96b4-0d5485c3158e",
   "metadata": {},
   "outputs": [],
   "source": [
    "# Convert target data ( Label ) to numeric feature\n",
    "# Map labels and Assign spam = 1 , ham = 0 \n",
    "\n",
    "df[\"label\"]=df[\"label\"].map({\"spam\":1 , \"ham\":0})"
   ]
  },
  {
   "cell_type": "code",
   "execution_count": 39,
   "id": "53e38549-c51a-4890-8c7a-0baa8ff142c2",
   "metadata": {},
   "outputs": [
    {
     "data": {
      "text/plain": [
       "dtype('int64')"
      ]
     },
     "execution_count": 39,
     "metadata": {},
     "output_type": "execute_result"
    }
   ],
   "source": [
    "# Check label data type again\n",
    "df[\"label\"].dtypes"
   ]
  },
  {
   "cell_type": "code",
   "execution_count": 40,
   "id": "83613edc-451d-4040-9bcf-882e9ee00069",
   "metadata": {},
   "outputs": [],
   "source": [
    "# Clean message contents from extra space, numbers and punctuations\n",
    "\n",
    "import re\n",
    "\n",
    "def clean_txt(text):\n",
    "    text=text.lower() # lower case \n",
    "    text = re.sub(r\"[^\\w\\s]\", \" \", text)    # Remove all punctuations\n",
    "    text = re.sub(r\"\\d+\", \" \", text)        # Remove numbers\n",
    "    text = \" \".join(text.split())           # Remove extra spaces\n",
    "    return text          \n",
    "df['cleaned_message'] = df['message'].apply(clean_txt)    "
   ]
  },
  {
   "cell_type": "code",
   "execution_count": 41,
   "id": "f974357c-b7f0-4f6d-826f-0a72c6b0a9c5",
   "metadata": {},
   "outputs": [
    {
     "name": "stdout",
     "output_type": "stream",
     "text": [
      "3087    i wish that i was with you holding you tightly...\n",
      "697     aight you close by or still down around alex s...\n",
      "1195                                              ok c ya\n",
      "1535                                 remember on that day\n",
      "2979    yar lor keep raining non stop or u wan go else...\n",
      "Name: cleaned_message, dtype: object\n"
     ]
    }
   ],
   "source": [
    "# print samples after cleaning the messages \n",
    "print(df['cleaned_message'].sample(5))"
   ]
  },
  {
   "cell_type": "markdown",
   "id": "1780a96a-379d-4dfc-a2d0-65d83ba93a82",
   "metadata": {},
   "source": [
    "<br>"
   ]
  },
  {
   "cell_type": "code",
   "execution_count": 42,
   "id": "8c5a9c03-ccbf-475c-a136-9c2f5d751a7f",
   "metadata": {},
   "outputs": [
    {
     "data": {
      "text/html": [
       "<div>\n",
       "<style scoped>\n",
       "    .dataframe tbody tr th:only-of-type {\n",
       "        vertical-align: middle;\n",
       "    }\n",
       "\n",
       "    .dataframe tbody tr th {\n",
       "        vertical-align: top;\n",
       "    }\n",
       "\n",
       "    .dataframe thead tr th {\n",
       "        text-align: left;\n",
       "    }\n",
       "\n",
       "    .dataframe thead tr:last-of-type th {\n",
       "        text-align: right;\n",
       "    }\n",
       "</style>\n",
       "<table border=\"1\" class=\"dataframe\">\n",
       "  <thead>\n",
       "    <tr>\n",
       "      <th></th>\n",
       "      <th colspan=\"8\" halign=\"left\">clean_message_length</th>\n",
       "    </tr>\n",
       "    <tr>\n",
       "      <th></th>\n",
       "      <th>count</th>\n",
       "      <th>mean</th>\n",
       "      <th>std</th>\n",
       "      <th>min</th>\n",
       "      <th>25%</th>\n",
       "      <th>50%</th>\n",
       "      <th>75%</th>\n",
       "      <th>max</th>\n",
       "    </tr>\n",
       "    <tr>\n",
       "      <th>label</th>\n",
       "      <th></th>\n",
       "      <th></th>\n",
       "      <th></th>\n",
       "      <th></th>\n",
       "      <th></th>\n",
       "      <th></th>\n",
       "      <th></th>\n",
       "      <th></th>\n",
       "    </tr>\n",
       "  </thead>\n",
       "  <tbody>\n",
       "    <tr>\n",
       "      <th>0</th>\n",
       "      <td>4825.0</td>\n",
       "      <td>67.381554</td>\n",
       "      <td>55.242186</td>\n",
       "      <td>0.0</td>\n",
       "      <td>31.0</td>\n",
       "      <td>50.0</td>\n",
       "      <td>88.0</td>\n",
       "      <td>907.0</td>\n",
       "    </tr>\n",
       "    <tr>\n",
       "      <th>1</th>\n",
       "      <td>747.0</td>\n",
       "      <td>115.760375</td>\n",
       "      <td>26.447837</td>\n",
       "      <td>4.0</td>\n",
       "      <td>106.0</td>\n",
       "      <td>123.0</td>\n",
       "      <td>132.0</td>\n",
       "      <td>182.0</td>\n",
       "    </tr>\n",
       "  </tbody>\n",
       "</table>\n",
       "</div>"
      ],
      "text/plain": [
       "      clean_message_length                                                   \\\n",
       "                     count        mean        std  min    25%    50%    75%   \n",
       "label                                                                         \n",
       "0                   4825.0   67.381554  55.242186  0.0   31.0   50.0   88.0   \n",
       "1                    747.0  115.760375  26.447837  4.0  106.0  123.0  132.0   \n",
       "\n",
       "              \n",
       "         max  \n",
       "label         \n",
       "0      907.0  \n",
       "1      182.0  "
      ]
     },
     "execution_count": 42,
     "metadata": {},
     "output_type": "execute_result"
    }
   ],
   "source": [
    "# Summarizing messaage content \n",
    "# Message length descriptive statistics of message length based on labels \n",
    "df[\"clean_message_length\"]=df['cleaned_message'].apply(len)\n",
    "df[[\"label\",\"clean_message_length\"]].groupby('label').describe()"
   ]
  },
  {
   "cell_type": "code",
   "execution_count": 43,
   "id": "5d40dab7-4150-47f1-afa9-a65f761a6c6e",
   "metadata": {},
   "outputs": [
    {
     "data": {
      "image/png": "[encoded data removed]",
      "text/plain": [
       "<Figure size 640x480 with 1 Axes>"
      ]
     },
     "metadata": {},
     "output_type": "display_data"
    }
   ],
   "source": [
    "# Visualization : Message Length Distribution for both labels \n",
    "sns.histplot(df, x=df[\"clean_message_length\"], bins=50, hue=\"label\")\n",
    "plt.xlabel(\"Cleaned Messaages Length\")\n",
    "plt.title(\"Message Length Distribution\")\n",
    "plt.show()"
   ]
  },
  {
   "cell_type": "markdown",
   "id": "4e679709-be2c-4dba-a4c3-9849036b74b0",
   "metadata": {},
   "source": [
    "## Key insights from EDA\n",
    "\n",
    "The **Average length of spam messages** (115.76 characters) is almost **twice as long as non-spam messages** (67.38 characters)\n",
    "\n",
    "The median (50th percentile) for spam (123 characters) is also much higher than for non-spam (50 characters)\n",
    "\n",
    "**Spam** message lengths are **tightly concentrated** between 106 - 132 characters (IQR)\n",
    "\n",
    "**The standard deviation** (26.44) of spam messages is much lower than that of non-spam messages (55.24), meaning spam messages tend to have similar lengths. highly likely due to Many spam messages follow a specific structure pre-written templates\n",
    "\n",
    "Most non-spam messages are shorter than 100 characters, The **peak is around 50 characters**\n",
    "\n",
    "Spam messages show a clear **peak around 120-140 characters** suggests a consistent length pattern"
   ]
  },
  {
   "cell_type": "markdown",
   "id": "aa3783f9-165a-48eb-af90-da4232b8fce0",
   "metadata": {},
   "source": [
    "<br><br>"
   ]
  },
  {
   "cell_type": "markdown",
   "id": "cd524176-d351-43c4-bfc3-4e27d2f1b248",
   "metadata": {},
   "source": [
    "## Text Feature Extraction (TF-IDF ) "
   ]
  },
  {
   "cell_type": "code",
   "execution_count": 44,
   "id": "3dabae72-bbb7-4c66-a205-318e048618e3",
   "metadata": {},
   "outputs": [],
   "source": [
    "from sklearn.feature_extraction.text import TfidfVectorizer\n",
    "\n",
    "# Initialize TF-IDF Vectorizer\n",
    "tfidf = TfidfVectorizer(stop_words='english', max_features=3000)  # Limit features to top 3000 words\n",
    "X = tfidf.fit_transform(df['cleaned_message'])"
   ]
  },
  {
   "cell_type": "code",
   "execution_count": 45,
   "id": "6853cba2-2311-422c-9a8d-7a9f4350490d",
   "metadata": {},
   "outputs": [],
   "source": [
    "# split data into training and test\n",
    "y=df[\"label\"]\n",
    "from sklearn.model_selection import train_test_split\n",
    "\n",
    "# Split dataset (80% Train, 20% Test)\n",
    "X_train, X_test, y_train, y_test = train_test_split(X, y, test_size=0.2, random_state=42, stratify=y)"
   ]
  },
  {
   "cell_type": "markdown",
   "id": "8daa574c-2a12-46ea-b199-b1ddf4aafc66",
   "metadata": {},
   "source": [
    "## Building Classifier Models (Logistic Regression, Naïve Bayes)"
   ]
  },
  {
   "cell_type": "code",
   "execution_count": 46,
   "id": "984435b9-5759-43e7-86dc-bdeb07a0c6d2",
   "metadata": {},
   "outputs": [],
   "source": [
    "from sklearn.linear_model import LogisticRegression\n",
    "from sklearn.naive_bayes import MultinomialNB\n",
    "from sklearn.tree import DecisionTreeClassifier\n",
    "from sklearn import metrics"
   ]
  },
  {
   "cell_type": "code",
   "execution_count": 47,
   "id": "a3115572-b411-46ff-9c10-6d8903ee0ee5",
   "metadata": {},
   "outputs": [
    {
     "name": "stdout",
     "output_type": "stream",
     "text": [
      "----------------------------------------------------------------------------------------------------\n",
      "[[965   1]\n",
      " [ 34 115]]          0.9686             0.9914                 0.7718            0.8679\n",
      "confusion matrix,  accurac,           precision,          recall,           F1 score\n",
      "----------------------------------------------------------------------------------------------------\n"
     ]
    }
   ],
   "source": [
    "# Building a Logistic Regression model\n",
    "clf = LogisticRegression(penalty='l2')\n",
    "clf.fit(X_train, y_train)\n",
    "\n",
    "y_pred = clf.predict(X_test)\n",
    "\n",
    "cm = metrics.confusion_matrix(y_test, y_pred)\n",
    "acc = metrics.accuracy_score(y_test, y_pred)\n",
    "pre = metrics.precision_score(y_test, y_pred)\n",
    "rec = metrics.recall_score(y_test, y_pred)\n",
    "f1 = metrics.f1_score(y_test, y_pred)\n",
    "print('--'*50)\n",
    "print(cm,'        ',np.round(acc,4),'           ',np.round(pre,4),'               ',np.round(rec,4),'          ',np.round(f1,4))\n",
    "print('confusion matrix,  accurac,           precision,          recall,           F1 score')\n",
    "print('--'*50)"
   ]
  },
  {
   "cell_type": "code",
   "execution_count": 48,
   "id": "49f54a2d-cf3b-4fdc-aa48-6e50230a3efd",
   "metadata": {},
   "outputs": [
    {
     "name": "stdout",
     "output_type": "stream",
     "text": [
      "----------------------------------------------------------------------------------------------------\n",
      "[[966   0]\n",
      " [ 27 122]]          0.9758             1.0                 0.8188            0.9004\n",
      "confusion matrix,  accuracy,          precision,          recall,           F1 score\n",
      "----------------------------------------------------------------------------------------------------\n"
     ]
    }
   ],
   "source": [
    "# Building a  Naïve Bayes model\n",
    "clf = MultinomialNB()\n",
    "clf.fit(X_train, y_train)\n",
    "y_pred = clf.predict(X_test)\n",
    "\n",
    "cm = metrics.confusion_matrix(y_test, y_pred)\n",
    "acc = metrics.accuracy_score(y_test, y_pred)\n",
    "pre = metrics.precision_score(y_test, y_pred)\n",
    "rec = metrics.recall_score(y_test, y_pred)\n",
    "f1 = metrics.f1_score(y_test, y_pred)\n",
    "\n",
    "print('--'*50)\n",
    "print(cm,'        ',np.round(acc,4),'           ',np.round(pre,4),'               ',np.round(rec,4),'          ',np.round(f1,4))\n",
    "print('confusion matrix,  accuracy,          precision,          recall,           F1 score')\n",
    "print('--'*50)"
   ]
  },
  {
   "cell_type": "code",
   "execution_count": 49,
   "id": "84648f8f-a2f2-4d62-933f-728844d24d5b",
   "metadata": {},
   "outputs": [
    {
     "data": {
      "image/png": "[encoded data removed]",
      "text/plain": [
       "<Figure size 500x400 with 2 Axes>"
      ]
     },
     "metadata": {},
     "output_type": "display_data"
    }
   ],
   "source": [
    "# Plot Confusion Matrix\n",
    "plt.figure(figsize=(5,4))\n",
    "sns.heatmap(cm, annot=True, fmt='d', cmap=\"Blues\", xticklabels=[\"Not Spam\", \"Spam\"], yticklabels=[\"Not Spam\", \"Spam\"])\n",
    "plt.xlabel(\"Predicted\")\n",
    "plt.ylabel(\"Actual\")\n",
    "plt.title(\"Confusion Matrix\")\n",
    "plt.show()"
   ]
  },
  {
   "attachments": {},
   "cell_type": "markdown",
   "id": "04f06b6e-bc16-4ed0-ad00-31130ebde47e",
   "metadata": {},
   "source": [
    "### Result explaination : \n",
    "\n",
    "**Naïve Bayes’ perfect precision**, meaning it never misclassifies a non-spam as spam!\n",
    "\n",
    "Naïve Bayes assumes word independence and uses word probabilities, making it work exceptionally well with sparse data \n",
    "\n",
    "like TF-IDF. Result: It performs well in spam detection\n",
    "\n",
    "Naïve Bayes, handles class imbalance better by relying on word probabilities"
   ]
  },
  {
   "cell_type": "code",
   "execution_count": null,
   "id": "c93cf35c-6d50-4c0f-8008-6c98aa17a704",
   "metadata": {},
   "outputs": [],
   "source": []
  }
 ],
 "metadata": {
  "kernelspec": {
   "display_name": "Python 3 (ipykernel)",
   "language": "python",
   "name": "python3"
  },
  "language_info": {
   "codemirror_mode": {
    "name": "ipython",
    "version": 3
   },
   "file_extension": ".py",
   "mimetype": "text/x-python",
   "name": "python",
   "nbconvert_exporter": "python",
   "pygments_lexer": "ipython3",
   "version": "3.12.7"
  }
 },
 "nbformat": 4,
 "nbformat_minor": 5
}
